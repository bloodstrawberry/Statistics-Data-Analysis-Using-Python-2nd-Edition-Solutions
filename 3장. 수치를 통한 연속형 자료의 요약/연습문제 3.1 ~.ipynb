{
 "cells": [
  {
   "cell_type": "code",
   "execution_count": 3,
   "id": "7dcf6a01",
   "metadata": {},
   "outputs": [
    {
     "data": {
      "text/plain": [
       "(2.8, 1.6733200530681511)"
      ]
     },
     "execution_count": 3,
     "metadata": {},
     "output_type": "execute_result"
    }
   ],
   "source": [
    "import numpy as np\n",
    "\n",
    "# 3.1 (1)\n",
    "data = np.array([2, 3, 4, 4, 7])\n",
    "\n",
    "np.var(data), np.std(data)"
   ]
  },
  {
   "cell_type": "code",
   "execution_count": 20,
   "id": "a8ed721f",
   "metadata": {},
   "outputs": [
    {
     "data": {
      "text/plain": [
       "(4.333333333333333, 2.0816659994661326)"
      ]
     },
     "execution_count": 20,
     "metadata": {},
     "output_type": "execute_result"
    }
   ],
   "source": [
    "# 3.1 (2)\n",
    "data = np.array([-1, 2, -1, 1, 0, 5])\n",
    "\n",
    "np.var(data), np.std(data)"
   ]
  },
  {
   "cell_type": "code",
   "execution_count": 15,
   "id": "405e62db",
   "metadata": {},
   "outputs": [
    {
     "data": {
      "text/plain": [
       "6.0"
      ]
     },
     "execution_count": 15,
     "metadata": {},
     "output_type": "execute_result"
    }
   ],
   "source": [
    "# 3.2\n",
    "data = np.array([9, 4, 5])\n",
    "\n",
    "mean = np.mean(data)\n",
    "mean"
   ]
  },
  {
   "cell_type": "code",
   "execution_count": 16,
   "id": "e28676c8",
   "metadata": {},
   "outputs": [
    {
     "data": {
      "text/plain": [
       "array([ 3., -2., -1.])"
      ]
     },
     "execution_count": 16,
     "metadata": {},
     "output_type": "execute_result"
    }
   ],
   "source": [
    "deviations = data - mean\n",
    "deviations"
   ]
  },
  {
   "cell_type": "code",
   "execution_count": 17,
   "id": "4a26e79f",
   "metadata": {},
   "outputs": [
    {
     "data": {
      "text/plain": [
       "0.0"
      ]
     },
     "execution_count": 17,
     "metadata": {},
     "output_type": "execute_result"
    }
   ],
   "source": [
    "# (1)\n",
    "sum_of_deviations = np.sum(deviations)\n",
    "sum_of_deviations"
   ]
  },
  {
   "cell_type": "code",
   "execution_count": 18,
   "id": "b1f27edd",
   "metadata": {},
   "outputs": [
    {
     "data": {
      "text/plain": [
       "7.0"
      ]
     },
     "execution_count": 18,
     "metadata": {},
     "output_type": "execute_result"
    }
   ],
   "source": [
    "# (2) 표본분산 (ddof=1 -> 분모를 n - 1로)\n",
    "sample_variance = np.var(data, ddof=1)\n",
    "sample_variance "
   ]
  },
  {
   "cell_type": "code",
   "execution_count": 19,
   "id": "eb6c88f8",
   "metadata": {},
   "outputs": [
    {
     "data": {
      "text/plain": [
       "2.6457513110645907"
      ]
     },
     "execution_count": 19,
     "metadata": {},
     "output_type": "execute_result"
    }
   ],
   "source": [
    "# (2) 표준편차 (표본표준편차)\n",
    "sample_std = np.std(data, ddof=1)\n",
    "sample_std"
   ]
  },
  {
   "cell_type": "code",
   "execution_count": null,
   "id": "5dfdc23f",
   "metadata": {},
   "outputs": [],
   "source": []
  }
 ],
 "metadata": {
  "kernelspec": {
   "display_name": "Python 3 (ipykernel)",
   "language": "python",
   "name": "python3"
  },
  "language_info": {
   "codemirror_mode": {
    "name": "ipython",
    "version": 3
   },
   "file_extension": ".py",
   "mimetype": "text/x-python",
   "name": "python",
   "nbconvert_exporter": "python",
   "pygments_lexer": "ipython3",
   "version": "3.7.4"
  }
 },
 "nbformat": 4,
 "nbformat_minor": 5
}
